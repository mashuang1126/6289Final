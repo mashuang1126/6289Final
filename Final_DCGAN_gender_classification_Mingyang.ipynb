{
  "nbformat": 4,
  "nbformat_minor": 0,
  "metadata": {
    "accelerator": "GPU",
    "colab": {
      "name": "Final_DCGAN_gender_classification_Mingyang.ipynb",
      "provenance": [],
      "collapsed_sections": [],
      "include_colab_link": true
    },
    "kernelspec": {
      "display_name": "Python 3",
      "name": "python3"
    }
  },
  "cells": [
    {
      "cell_type": "markdown",
      "metadata": {
        "id": "view-in-github",
        "colab_type": "text"
      },
      "source": [
        "<a href=\"https://colab.research.google.com/github/cuixx289/STAT6289-Final-project/blob/main/Final_DCGAN_gender_classification_Mingyang.ipynb\" target=\"_parent\"><img src=\"https://colab.research.google.com/assets/colab-badge.svg\" alt=\"Open In Colab\"/></a>"
      ]
    },
    {
      "cell_type": "code",
      "metadata": {
        "id": "nwMb7oU4nqBB",
        "colab": {
          "base_uri": "https://localhost:8080/"
        },
        "outputId": "ef943d2e-8f81-42aa-bedb-fb734d42033f"
      },
      "source": [
        "from google.colab import drive\n",
        "import sys\n",
        "\n",
        "# Mount Google Drive\n",
        "drive.mount(\"/content/drive\", force_remount=True)"
      ],
      "execution_count": null,
      "outputs": [
        {
          "output_type": "stream",
          "text": [
            "Mounted at /content/drive\n"
          ],
          "name": "stdout"
        }
      ]
    },
    {
      "cell_type": "code",
      "metadata": {
        "id": "85nOnPQlUc63"
      },
      "source": [
        "import tensorflow as tf\n",
        "from tensorflow.keras.layers import Input, Reshape, Dropout, Dense \n",
        "from tensorflow.keras.layers import Flatten, BatchNormalization\n",
        "from tensorflow.keras.layers import Activation, ZeroPadding2D\n",
        "from tensorflow.keras.layers import LeakyReLU\n",
        "from tensorflow.keras.layers import UpSampling2D, Conv2D\n",
        "from tensorflow.keras.models import Sequential, Model, load_model\n",
        "from tensorflow.keras.optimizers import Adam\n",
        "import numpy as np\n",
        "from PIL import Image\n",
        "from tqdm import tqdm\n",
        "import os \n",
        "import time\n",
        "import matplotlib.pyplot as plt"
      ],
      "execution_count": null,
      "outputs": []
    },
    {
      "cell_type": "code",
      "metadata": {
        "colab": {
          "base_uri": "https://localhost:8080/"
        },
        "id": "z0m8a93rUkmd",
        "outputId": "f95a077a-c310-4811-ad27-1db3a2155957"
      },
      "source": [
        "# Generation resolution - Must be square \n",
        "# Training data is also scaled to this.\n",
        "# will blow Google CoLab's memory and have not\n",
        "# been tested extensivly.\n",
        "GENERATE_RES = 3 # Generation resolution factor \n",
        "# (1=32, 2=64, 3=96, 4=128, etc.)\n",
        "GENERATE_SQUARE = 32*GENERATE_RES # rows/cols (should be square)\n",
        "IMAGE_CHANNELS = 3\n",
        "\n",
        "# Size vector to generate images from\n",
        "SEED_SIZE = 100\n",
        "\n",
        "# Configuration\n",
        "DATA_PATH = '/content/drive/My Drive/gender/'\n",
        "EPOCHS = 500\n",
        "BATCH_SIZE = 32\n",
        "BUFFER_SIZE = 60000\n",
        "\n",
        "print(f\"The generated square images is {GENERATE_SQUARE}px.\")"
      ],
      "execution_count": null,
      "outputs": [
        {
          "output_type": "stream",
          "text": [
            "The generated square images is 96px.\n"
          ],
          "name": "stdout"
        }
      ]
    },
    {
      "cell_type": "code",
      "metadata": {
        "colab": {
          "base_uri": "https://localhost:8080/"
        },
        "id": "xPxx-crPUlqA",
        "outputId": "f75fcb1f-ec62-4bc0-f153-3d42ec87aad4"
      },
      "source": [
        "# The dataset has over 8500 images \n",
        "# for initial preprocessing.\n",
        "# Because of this time needed, save a Numpy preprocessed file.\n",
        "# Note, that file is large enough to cause problems for \n",
        "# sume verisons of Pickle,\n",
        "# so Numpy binary files are used.\n",
        "training_binary_path = os.path.join(DATA_PATH,\n",
        "        f'training_data_96_96.npy')\n",
        "\n",
        "print(f\"Looking for file: {training_binary_path}\")\n",
        "\n",
        "if not os.path.isfile(training_binary_path):\n",
        "  start = time.time()\n",
        "  print(\"Loading training images...\")\n",
        "\n",
        "  training_data = []\n",
        "  faces_path = os.path.join(DATA_PATH)\n",
        "  for filename in tqdm(os.listdir(faces_path)):\n",
        "      path = os.path.join(faces_path,filename)\n",
        "      image = Image.open(path).resize((GENERATE_SQUARE,\n",
        "            114),Image.ANTIALIAS)\n",
        "      training_data.append(np.asarray(image))\n",
        "  training_data = np.reshape(training_data,(-1,GENERATE_SQUARE,\n",
        "            114,IMAGE_CHANNELS))\n",
        "  training_data = training_data.astype(np.float32)\n",
        "  training_data = training_data / 127.5 - 1. #Reduce runing time\n",
        "\n",
        "\n",
        "  print(\"Saving training image binary...\")\n",
        "  np.save(training_binary_path,training_data)\n",
        "  elapsed = time.time()-start\n",
        "else:\n",
        "  print(\"Loading previous training pickle...\")\n",
        "  training_data = np.load(training_binary_path)"
      ],
      "execution_count": null,
      "outputs": [
        {
          "output_type": "stream",
          "text": [
            "Looking for file: /content/drive/My Drive/gender/training_data_96_96.npy\n",
            "Loading previous training pickle...\n"
          ],
          "name": "stdout"
        }
      ]
    },
    {
      "cell_type": "markdown",
      "metadata": {
        "id": "wjYf3_FEe45D"
      },
      "source": [
        "\n",
        "We will use a TensorFlow Dataset object to actually hold the images. This allows the data to be quickly shuffled int divided into the appropriate batch sizes for training."
      ]
    },
    {
      "cell_type": "code",
      "metadata": {
        "id": "2N7RHl9tUpja"
      },
      "source": [
        "# Batch and shuffle the data\n",
        "train_dataset = tf.data.Dataset.from_tensor_slices(training_data) \\\n",
        "    .shuffle(BUFFER_SIZE).batch(BATCH_SIZE)\n"
      ],
      "execution_count": null,
      "outputs": []
    },
    {
      "cell_type": "code",
      "metadata": {
        "id": "8lMPJ5JfYdlW"
      },
      "source": [
        "from keras.optimizers import Adam\n",
        "from keras.initializers import RandomNormal\n",
        "from keras.layers import Input,Conv2D,Dense, Dropout, BatchNormalization, MaxPooling2D, Activation, Flatten, AvgPool2D,InputLayer,GlobalAveragePooling2D,LSTM,Embedding,Conv2DTranspose,Reshape"
      ],
      "execution_count": null,
      "outputs": []
    },
    {
      "cell_type": "markdown",
      "metadata": {
        "id": "xHN-zew31zNq"
      },
      "source": [
        "# Build generator and discriminator funtion"
      ]
    },
    {
      "cell_type": "markdown",
      "metadata": {
        "id": "Xqs35jZRHVJM"
      },
      "source": [
        "The architecture of buiding generator and discriminator function for our DCGANs models are following:\n",
        "\n",
        "1.Replace any pooling layers with strided convolutions (discriminator) and fractional-strided convolutions (generator).\n",
        "\n",
        "2.Instead of using BatchNormal,we use Random normalization(0,0.02) in both the generator and the discriminator to prevent the vanishing gradient problem.\n",
        "\n",
        "3.Remove fully connected hidden layers for deeper architectures.\n",
        "\n",
        "4.Instead of using Relu, we use LeakyReLU activation in generator for all layers except for the output, which uses Tanh.\n",
        "\n",
        "5.Use LeakyReLU activation in the discriminator for all layers."
      ]
    },
    {
      "cell_type": "code",
      "metadata": {
        "id": "Ow4eomcs9Zt_"
      },
      "source": [
        "def build_generator(seed_size, channels):\n",
        "    model = Sequential()\n",
        "\n",
        "    model.add(Dense(4*4*256,input_dim=seed_size))\n",
        "    model.add(Reshape((4,4,256)))\n",
        "\n",
        "    model.add(UpSampling2D())\n",
        "    model.add(Conv2D(256,kernel_size=(3,3),padding=\"same\"\n",
        "                          ,kernel_initializer=RandomNormal(0, 0.02)))\n",
        "    \n",
        "    model.add(LeakyReLU(alpha=0.2))\n",
        "\n",
        "    model.add(UpSampling2D())\n",
        "    model.add(Conv2D(256,kernel_size=(3,3),padding=\"same\"\n",
        "                          ,kernel_initializer=RandomNormal(0, 0.02)))\n",
        "    model.add(LeakyReLU(alpha=0.2))\n",
        "   \n",
        "    # Output resolution, additional upsampling\n",
        "    model.add(UpSampling2D())\n",
        "    model.add(Conv2D(128,kernel_size=(3,3),padding=\"same\"\n",
        "                          ,kernel_initializer=RandomNormal(0, 0.02)))\n",
        "    model.add(LeakyReLU(alpha=0.2))\n",
        "\n",
        "    model.add(UpSampling2D(size=(GENERATE_RES,GENERATE_RES)))\n",
        "    model.add(Conv2D(128,kernel_size=3,padding=\"same\"\n",
        "            ,kernel_initializer=RandomNormal(0, 0.02)))\n",
        "\n",
        "    # Final CNN layer\n",
        "    model.add(Conv2D(channels,kernel_size=(3,3),padding=\"same\",activation = 'tanh'))\n",
        "\n",
        "    \n",
        "    return model"
      ],
      "execution_count": null,
      "outputs": []
    },
    {
      "cell_type": "code",
      "metadata": {
        "id": "9wYJeWHiXeRE"
      },
      "source": [
        "def build_discriminator(image_shape):\n",
        "    model = Sequential()\n",
        "\n",
        "    model.add(Conv2D(32, kernel_size=(3,3), strides=2, input_shape=image_shape, \n",
        "                     padding=\"same\"))\n",
        "    model.add(LeakyReLU(alpha=0.2))\n",
        "\n",
        "    model.add(Dropout(0.25))\n",
        "    model.add(Conv2D(64, kernel_size=(3,3), strides=2\n",
        "                     , padding=\"same\"))\n",
        "    model.add(BatchNormalization(momentum=0.9))\n",
        "\n",
        "    model.add(ZeroPadding2D(padding=((0,1),(0,1))))\n",
        "    model.add(LeakyReLU(alpha=0.2))\n",
        "\n",
        "    model.add(Dropout(0.25))\n",
        "    model.add(Conv2D(128, kernel_size=(3,3), strides=2\n",
        "                     , padding=\"same\"))\n",
        "    model.add(BatchNormalization(momentum=0.9))\n",
        "\n",
        "    model.add(LeakyReLU(alpha=0.2))\n",
        "\n",
        "    model.add(Dropout(0.25))\n",
        "    model.add(Conv2D(256, kernel_size=(3,3), strides=1\n",
        "                     , padding=\"same\"))\n",
        "    model.add(BatchNormalization(momentum=0.9))\n",
        "    \n",
        "    model.add(LeakyReLU(alpha=0.2))\n",
        "\n",
        "    model.add(Dropout(0.25))\n",
        "    model.add(Conv2D(512, kernel_size=3, strides=1,\n",
        "                     padding=\"same\"))\n",
        "    model.add(BatchNormalization(momentum=0.9))\n",
        "    model.add(LeakyReLU(alpha=0.2))\n",
        "\n",
        "    model.add(Dropout(0.25))\n",
        "    model.add(Flatten())\n",
        "    model.add(Dense(1, activation='sigmoid'))\n",
        "\n",
        "    return model"
      ],
      "execution_count": null,
      "outputs": []
    },
    {
      "cell_type": "markdown",
      "metadata": {
        "id": "tb4_boxzpnjc"
      },
      "source": [
        "# Save training images\n",
        "As we progress through training images will be produced to show the progress. These images will contain a number of rendered faces that show how good the generator has become. These faces will be"
      ]
    },
    {
      "cell_type": "code",
      "metadata": {
        "id": "5wTNrkJuUsX6"
      },
      "source": [
        "# Preview image \n",
        "PREVIEW_ROWS = 1\n",
        "PREVIEW_COLS = 1\n",
        "\n",
        "def save_images(cnt,noise):\n",
        "  image_array = np.full(( \n",
        "      (PREVIEW_ROWS * (GENERATE_SQUARE)), \n",
        "      (PREVIEW_COLS * (GENERATE_SQUARE)), 3), \n",
        "      255, dtype=np.uint8)\n",
        "  \n",
        "  generated_images = generator.predict(noise)\n",
        "\n",
        "  generated_images = 0.5 * generated_images + 0.5\n",
        "\n",
        "  image_count = 0\n",
        "  for row in range(PREVIEW_ROWS):\n",
        "      for col in range(PREVIEW_COLS):\n",
        "        r = row * (GENERATE_SQUARE+16)\n",
        "        c = col * (GENERATE_SQUARE+16)\n",
        "        image_array[r:r+GENERATE_SQUARE,c:c+GENERATE_SQUARE] \\\n",
        "            = generated_images[image_count] * 255\n",
        "        image_count += 1\n",
        "\n",
        "          \n",
        "  output_path = os.path.join(DATA_PATH,'DCGAN_faces2')\n",
        "  if not os.path.exists(output_path):\n",
        "    os.makedirs(output_path)\n",
        "  \n",
        "  filename = os.path.join(output_path,f\"train-{cnt}.png\")\n",
        "  im = Image.fromarray(image_array)\n",
        "  im.save(filename)\n"
      ],
      "execution_count": null,
      "outputs": []
    },
    {
      "cell_type": "code",
      "metadata": {
        "colab": {
          "base_uri": "https://localhost:8080/",
          "height": 285
        },
        "id": "eX0xUSF9UuuB",
        "outputId": "be47ab9f-5129-41fc-8a60-5fcf842126b3"
      },
      "source": [
        "\n",
        "generator = build_generator(SEED_SIZE, IMAGE_CHANNELS)\n",
        "\n",
        "noise = tf.random.normal([1, SEED_SIZE])\n",
        "generated_image = generator(noise, training=False)\n",
        "\n",
        "plt.imshow(generated_image[0, :, :, 0])"
      ],
      "execution_count": null,
      "outputs": [
        {
          "output_type": "execute_result",
          "data": {
            "text/plain": [
              "<matplotlib.image.AxesImage at 0x7f85d546bac8>"
            ]
          },
          "metadata": {
            "tags": []
          },
          "execution_count": 100
        },
        {
          "output_type": "display_data",
          "data": {
            "image/png": "[encoded data removed]",
            "text/plain": [
              "<Figure size 432x288 with 1 Axes>"
            ]
          },
          "metadata": {
            "tags": [],
            "needs_background": "light"
          }
        }
      ]
    },
    {
      "cell_type": "code",
      "metadata": {
        "colab": {
          "base_uri": "https://localhost:8080/"
        },
        "id": "YDGGxu3DU2hq",
        "outputId": "4de2342c-814b-4b71-dcc0-0be03a1e8770"
      },
      "source": [
        "image_shape = (GENERATE_SQUARE,GENERATE_SQUARE,IMAGE_CHANNELS)\n",
        "\n",
        "discriminator = build_discriminator(image_shape)\n",
        "decision = discriminator(generated_image)\n",
        "print (decision)"
      ],
      "execution_count": null,
      "outputs": [
        {
          "output_type": "stream",
          "text": [
            "tf.Tensor([[0.49822906]], shape=(1, 1), dtype=float32)\n"
          ],
          "name": "stdout"
        }
      ]
    },
    {
      "cell_type": "code",
      "metadata": {
        "id": "x-0L1vXLU8BY"
      },
      "source": [
        "# This method returns a helper function to compute cross entropy loss\n",
        "cross_entropy = tf.keras.losses.BinaryCrossentropy()\n",
        "\n",
        "def discriminator_loss(real_output, fake_output):\n",
        "    real_loss = cross_entropy(tf.ones_like(real_output), real_output)\n",
        "    fake_loss = cross_entropy(tf.zeros_like(fake_output), fake_output)\n",
        "    total_loss = real_loss + fake_loss\n",
        "    return total_loss\n",
        "\n",
        "def generator_loss(fake_output):\n",
        "    return cross_entropy(tf.ones_like(fake_output), fake_output)"
      ],
      "execution_count": null,
      "outputs": []
    },
    {
      "cell_type": "markdown",
      "metadata": {
        "id": "ZnZnu3k3c6s6"
      },
      "source": [
        "# Optimizer\n",
        "Both the generator and discriminator use Adam optimizer and the same learning rate (0.00005) and momentum(0.5). This does not need to be the case. If you use a GENERATE_RES greater than 3 you may need to tune these learning rates, as well as other training and hyperparameters.\n",
        "\n"
      ]
    },
    {
      "cell_type": "markdown",
      "metadata": {
        "id": "pI7Vf1BBc6nz"
      },
      "source": [
        ""
      ]
    },
    {
      "cell_type": "code",
      "metadata": {
        "id": "ajk_I8H4U-kv"
      },
      "source": [
        "generator_optimizer = tf.keras.optimizers.Adam(learning_rate = 0.00005, beta_1 = 0.5)\n",
        "discriminator_optimizer = tf.keras.optimizers.Adam(learning_rate = 0.00005, beta_1 = 0.5)"
      ],
      "execution_count": null,
      "outputs": []
    },
    {
      "cell_type": "code",
      "metadata": {
        "id": "splzUCqVVAYg"
      },
      "source": [
        "# Notice the use of `tf.function`\n",
        "# This annotation causes the function to be \"compiled\".\n",
        "@tf.function\n",
        "def train_step(images):\n",
        "  seed = tf.random.normal([BATCH_SIZE, SEED_SIZE])\n",
        "\n",
        "  with tf.GradientTape() as gen_tape, tf.GradientTape() as disc_tape:\n",
        "    generated_images = generator(seed, training=True)\n",
        "\n",
        "    real_output = discriminator(images, training=True)\n",
        "    fake_output = discriminator(generated_images, training=True)\n",
        "\n",
        "    gen_loss = generator_loss(fake_output)\n",
        "    disc_loss = discriminator_loss(real_output, fake_output)\n",
        "    \n",
        "\n",
        "    gradients_of_generator = gen_tape.gradient(\\\n",
        "        gen_loss, generator.trainable_variables)\n",
        "    gradients_of_discriminator = disc_tape.gradient(\\\n",
        "        disc_loss, discriminator.trainable_variables)\n",
        "\n",
        "    generator_optimizer.apply_gradients(zip(\n",
        "        gradients_of_generator, generator.trainable_variables))\n",
        "    discriminator_optimizer.apply_gradients(zip(\n",
        "        gradients_of_discriminator, \n",
        "        discriminator.trainable_variables))\n",
        "  return gen_loss,disc_loss"
      ],
      "execution_count": null,
      "outputs": []
    },
    {
      "cell_type": "code",
      "metadata": {
        "id": "qIUbbj9XVCSM"
      },
      "source": [
        "def train(dataset, epochs):\n",
        "  fixed_seed = np.random.normal(0, 1, (PREVIEW_ROWS * PREVIEW_COLS, \n",
        "                                       SEED_SIZE))\n",
        "  start = time.time()\n",
        "\n",
        "  for epoch in range(epochs):\n",
        "    epoch_start = time.time()\n",
        "\n",
        "    gen_loss_list = []\n",
        "    disc_loss_list = []\n",
        "\n",
        "    for image_batch in dataset:\n",
        "      t = train_step(image_batch)\n",
        "      gen_loss_list.append(t[0])\n",
        "      disc_loss_list.append(t[1])\n",
        "\n",
        "    g_loss = sum(gen_loss_list) / len(gen_loss_list)\n",
        "    d_loss = sum(disc_loss_list) / len(disc_loss_list)\n",
        "\n",
        "    epoch_elapsed = time.time()-epoch_start\n",
        "    print (f'Epoch {epoch+1}, gen loss={g_loss},disc loss={d_loss}')\n",
        "    save_images(epoch,fixed_seed)\n"
      ],
      "execution_count": null,
      "outputs": []
    },
    {
      "cell_type": "markdown",
      "metadata": {
        "id": "J_6EKJ6ReXBS"
      },
      "source": [
        "# Training"
      ]
    },
    {
      "cell_type": "code",
      "metadata": {
        "colab": {
          "base_uri": "https://localhost:8080/"
        },
        "id": "tfhS_l5pVEWU",
        "outputId": "4ddd159e-b562-4911-becd-57b62edd9d93"
      },
      "source": [
        "train(train_dataset, EPOCHS)"
      ],
      "execution_count": null,
      "outputs": [
        {
          "output_type": "stream",
          "text": [
            "Epoch 1, gen loss=2.0692808628082275,disc loss=0.6567711234092712\n",
            "Epoch 2, gen loss=2.4704339504241943,disc loss=0.4836638867855072\n",
            "Epoch 3, gen loss=2.361187219619751,disc loss=0.5871432423591614\n",
            "Epoch 4, gen loss=2.162529945373535,disc loss=0.8804497718811035\n",
            "Epoch 5, gen loss=2.2141544818878174,disc loss=0.8176508545875549\n",
            "Epoch 6, gen loss=2.0184216499328613,disc loss=0.9108719229698181\n",
            "Epoch 7, gen loss=2.142500638961792,disc loss=0.814805805683136\n",
            "Epoch 8, gen loss=2.0892722606658936,disc loss=0.8471730351448059\n",
            "Epoch 9, gen loss=2.049363851547241,disc loss=0.8565255999565125\n",
            "Epoch 10, gen loss=2.1548900604248047,disc loss=0.8178112506866455\n",
            "Epoch 11, gen loss=2.043853998184204,disc loss=0.8601076006889343\n",
            "Epoch 12, gen loss=2.0345308780670166,disc loss=0.8788862824440002\n",
            "Epoch 13, gen loss=2.215101718902588,disc loss=0.7901207208633423\n",
            "Epoch 14, gen loss=2.0942070484161377,disc loss=0.8168736696243286\n",
            "Epoch 15, gen loss=2.1732282638549805,disc loss=0.7944672107696533\n",
            "Epoch 16, gen loss=2.13503098487854,disc loss=0.8122494220733643\n",
            "Epoch 17, gen loss=1.9569069147109985,disc loss=0.8995142579078674\n",
            "Epoch 18, gen loss=1.8503072261810303,disc loss=0.9676839709281921\n",
            "Epoch 19, gen loss=1.825701355934143,disc loss=0.9507846832275391\n",
            "Epoch 20, gen loss=1.837216854095459,disc loss=0.9213341474533081\n",
            "Epoch 21, gen loss=1.8659045696258545,disc loss=0.8723946809768677\n",
            "Epoch 22, gen loss=1.915472388267517,disc loss=0.8510224223136902\n",
            "Epoch 23, gen loss=1.920291543006897,disc loss=0.8379020094871521\n",
            "Epoch 24, gen loss=1.8882412910461426,disc loss=0.8584417104721069\n",
            "Epoch 25, gen loss=1.9233222007751465,disc loss=0.8413775563240051\n",
            "Epoch 26, gen loss=1.9386497735977173,disc loss=0.8148136138916016\n",
            "Epoch 27, gen loss=2.0048186779022217,disc loss=0.8158605098724365\n",
            "Epoch 28, gen loss=2.0478086471557617,disc loss=0.7798408269882202\n",
            "Epoch 29, gen loss=2.0924205780029297,disc loss=0.7628414630889893\n",
            "Epoch 30, gen loss=2.1423349380493164,disc loss=0.7482680082321167\n",
            "Epoch 31, gen loss=2.1933796405792236,disc loss=0.706285834312439\n",
            "Epoch 32, gen loss=2.2291793823242188,disc loss=0.719680905342102\n",
            "Epoch 33, gen loss=2.251518964767456,disc loss=0.7024790048599243\n",
            "Epoch 34, gen loss=2.2899930477142334,disc loss=0.7002578973770142\n",
            "Epoch 35, gen loss=2.2029099464416504,disc loss=0.7422246932983398\n",
            "Epoch 36, gen loss=2.333122730255127,disc loss=0.7494922280311584\n",
            "Epoch 37, gen loss=2.2307822704315186,disc loss=0.7295743227005005\n",
            "Epoch 38, gen loss=2.1839559078216553,disc loss=0.7362632155418396\n",
            "Epoch 39, gen loss=2.158585548400879,disc loss=0.7290344834327698\n",
            "Epoch 40, gen loss=2.266617774963379,disc loss=0.6785966753959656\n",
            "Epoch 41, gen loss=2.291525363922119,disc loss=0.6695920825004578\n",
            "Epoch 42, gen loss=2.2257769107818604,disc loss=0.7050119042396545\n",
            "Epoch 43, gen loss=2.2848598957061768,disc loss=0.7108845114707947\n",
            "Epoch 44, gen loss=2.1585710048675537,disc loss=0.7544165253639221\n",
            "Epoch 45, gen loss=2.170541286468506,disc loss=0.7604215741157532\n",
            "Epoch 46, gen loss=2.2476792335510254,disc loss=0.7456034421920776\n",
            "Epoch 47, gen loss=2.1641969680786133,disc loss=0.7303942441940308\n",
            "Epoch 48, gen loss=2.205918788909912,disc loss=0.7252525091171265\n",
            "Epoch 49, gen loss=2.235301971435547,disc loss=0.7264732718467712\n",
            "Epoch 50, gen loss=2.3215579986572266,disc loss=0.7049051523208618\n",
            "Epoch 51, gen loss=2.2158396244049072,disc loss=0.7404716610908508\n",
            "Epoch 52, gen loss=2.189079999923706,disc loss=0.6995500326156616\n",
            "Epoch 53, gen loss=2.230255365371704,disc loss=0.7047932147979736\n",
            "Epoch 54, gen loss=2.2283518314361572,disc loss=0.7270329594612122\n",
            "Epoch 55, gen loss=2.315288543701172,disc loss=0.6980302929878235\n",
            "Epoch 56, gen loss=2.3836557865142822,disc loss=0.6458927989006042\n",
            "Epoch 57, gen loss=2.2497475147247314,disc loss=0.7147623896598816\n",
            "Epoch 58, gen loss=2.2759366035461426,disc loss=0.7347549796104431\n",
            "Epoch 59, gen loss=2.216994047164917,disc loss=0.7239519953727722\n",
            "Epoch 60, gen loss=2.2566113471984863,disc loss=0.7188675403594971\n",
            "Epoch 61, gen loss=2.2216737270355225,disc loss=0.6944088935852051\n",
            "Epoch 62, gen loss=2.3974733352661133,disc loss=0.6566871404647827\n",
            "Epoch 63, gen loss=2.2455599308013916,disc loss=0.7243325710296631\n",
            "Epoch 64, gen loss=2.285162925720215,disc loss=0.7185865044593811\n",
            "Epoch 65, gen loss=2.235487699508667,disc loss=0.6950787901878357\n",
            "Epoch 66, gen loss=2.2390828132629395,disc loss=0.7108687162399292\n",
            "Epoch 67, gen loss=2.231228828430176,disc loss=0.7304675579071045\n",
            "Epoch 68, gen loss=2.2313945293426514,disc loss=0.702412486076355\n",
            "Epoch 69, gen loss=2.235995292663574,disc loss=0.7514483332633972\n",
            "Epoch 70, gen loss=2.2246804237365723,disc loss=0.7292100787162781\n",
            "Epoch 71, gen loss=2.2579667568206787,disc loss=0.7161356806755066\n",
            "Epoch 72, gen loss=2.3150274753570557,disc loss=0.6859990358352661\n",
            "Epoch 73, gen loss=2.229123115539551,disc loss=0.7269594669342041\n",
            "Epoch 74, gen loss=2.2809031009674072,disc loss=0.6972623467445374\n",
            "Epoch 75, gen loss=2.2572367191314697,disc loss=0.7242573499679565\n",
            "Epoch 76, gen loss=2.3063604831695557,disc loss=0.6981491446495056\n",
            "Epoch 77, gen loss=2.2484474182128906,disc loss=0.6865159869194031\n",
            "Epoch 78, gen loss=2.3097736835479736,disc loss=0.6847860813140869\n",
            "Epoch 79, gen loss=2.292973756790161,disc loss=0.7165625095367432\n",
            "Epoch 80, gen loss=2.259258508682251,disc loss=0.707009494304657\n",
            "Epoch 81, gen loss=2.258373498916626,disc loss=0.6911706924438477\n",
            "Epoch 82, gen loss=2.3180041313171387,disc loss=0.675248920917511\n",
            "Epoch 83, gen loss=2.3097660541534424,disc loss=0.6991342306137085\n",
            "Epoch 84, gen loss=2.333700180053711,disc loss=0.67740797996521\n",
            "Epoch 85, gen loss=2.3527793884277344,disc loss=0.7051342129707336\n",
            "Epoch 86, gen loss=2.389143705368042,disc loss=0.6735986471176147\n",
            "Epoch 87, gen loss=2.3242897987365723,disc loss=0.692497968673706\n",
            "Epoch 88, gen loss=2.3330206871032715,disc loss=0.6869142651557922\n",
            "Epoch 89, gen loss=2.3114356994628906,disc loss=0.707009494304657\n",
            "Epoch 90, gen loss=2.388341188430786,disc loss=0.6819408535957336\n",
            "Epoch 91, gen loss=2.3981871604919434,disc loss=0.6932715773582458\n",
            "Epoch 92, gen loss=2.39337158203125,disc loss=0.6812866926193237\n",
            "Epoch 93, gen loss=2.3352439403533936,disc loss=0.6622936725616455\n",
            "Epoch 94, gen loss=2.3831193447113037,disc loss=0.6649928092956543\n",
            "Epoch 95, gen loss=2.4323344230651855,disc loss=0.6800605058670044\n",
            "Epoch 96, gen loss=2.35019850730896,disc loss=0.678455650806427\n",
            "Epoch 97, gen loss=2.4090797901153564,disc loss=0.6699961423873901\n",
            "Epoch 98, gen loss=2.3993635177612305,disc loss=0.6761474013328552\n",
            "Epoch 99, gen loss=2.4205760955810547,disc loss=0.6574784517288208\n",
            "Epoch 100, gen loss=2.451157569885254,disc loss=0.6334751844406128\n",
            "Epoch 101, gen loss=2.497647523880005,disc loss=0.6451143026351929\n",
            "Epoch 102, gen loss=2.3752410411834717,disc loss=0.6604353189468384\n",
            "Epoch 103, gen loss=2.5116546154022217,disc loss=0.650878369808197\n",
            "Epoch 104, gen loss=2.4246323108673096,disc loss=0.6586804389953613\n",
            "Epoch 105, gen loss=2.4560723304748535,disc loss=0.658860981464386\n",
            "Epoch 106, gen loss=2.458693504333496,disc loss=0.664942741394043\n",
            "Epoch 107, gen loss=2.481638193130493,disc loss=0.6452109813690186\n",
            "Epoch 108, gen loss=2.414889335632324,disc loss=0.6769342422485352\n",
            "Epoch 109, gen loss=2.3929171562194824,disc loss=0.6640850305557251\n",
            "Epoch 110, gen loss=2.3957417011260986,disc loss=0.6602033376693726\n",
            "Epoch 111, gen loss=2.455256462097168,disc loss=0.6729902029037476\n",
            "Epoch 112, gen loss=2.435781717300415,disc loss=0.6541495323181152\n",
            "Epoch 113, gen loss=2.4260177612304688,disc loss=0.6586042642593384\n",
            "Epoch 114, gen loss=2.4770495891571045,disc loss=0.6560983657836914\n",
            "Epoch 115, gen loss=2.532005548477173,disc loss=0.6344335675239563\n",
            "Epoch 116, gen loss=2.460996150970459,disc loss=0.6754361391067505\n",
            "Epoch 117, gen loss=2.3965651988983154,disc loss=0.6540784239768982\n",
            "Epoch 118, gen loss=2.443539619445801,disc loss=0.6520810723304749\n",
            "Epoch 119, gen loss=2.4230947494506836,disc loss=0.668388843536377\n",
            "Epoch 120, gen loss=2.467538833618164,disc loss=0.6603609919548035\n",
            "Epoch 121, gen loss=2.476992607116699,disc loss=0.6164423823356628\n",
            "Epoch 122, gen loss=2.447953462600708,disc loss=0.6630135774612427\n",
            "Epoch 123, gen loss=2.4423868656158447,disc loss=0.6223384141921997\n",
            "Epoch 124, gen loss=2.4760591983795166,disc loss=0.6446812152862549\n",
            "Epoch 125, gen loss=2.456824541091919,disc loss=0.6337677240371704\n",
            "Epoch 126, gen loss=2.5075583457946777,disc loss=0.600335419178009\n",
            "Epoch 127, gen loss=2.544013261795044,disc loss=0.6475620865821838\n",
            "Epoch 128, gen loss=2.566335916519165,disc loss=0.6575720906257629\n",
            "Epoch 129, gen loss=2.5617496967315674,disc loss=0.6199988126754761\n",
            "Epoch 130, gen loss=2.5326387882232666,disc loss=0.6495687365531921\n",
            "Epoch 131, gen loss=2.5175042152404785,disc loss=0.6269067525863647\n",
            "Epoch 132, gen loss=2.576969861984253,disc loss=0.6012197732925415\n",
            "Epoch 133, gen loss=2.527921199798584,disc loss=0.6569722890853882\n",
            "Epoch 134, gen loss=2.526580333709717,disc loss=0.6334812641143799\n",
            "Epoch 135, gen loss=2.6067914962768555,disc loss=0.6189268231391907\n",
            "Epoch 136, gen loss=2.5875258445739746,disc loss=0.6246271133422852\n",
            "Epoch 137, gen loss=2.620903730392456,disc loss=0.599622368812561\n",
            "Epoch 138, gen loss=2.5874946117401123,disc loss=0.6418968439102173\n",
            "Epoch 139, gen loss=2.619074583053589,disc loss=0.5991217494010925\n",
            "Epoch 140, gen loss=2.6315505504608154,disc loss=0.619136393070221\n",
            "Epoch 141, gen loss=2.588548421859741,disc loss=0.6085649132728577\n",
            "Epoch 142, gen loss=2.629901885986328,disc loss=0.5793725848197937\n",
            "Epoch 143, gen loss=2.637845277786255,disc loss=0.6228418350219727\n",
            "Epoch 144, gen loss=2.6178441047668457,disc loss=0.6026937961578369\n",
            "Epoch 145, gen loss=2.6547164916992188,disc loss=0.6259205341339111\n",
            "Epoch 146, gen loss=2.6715900897979736,disc loss=0.6059616208076477\n",
            "Epoch 147, gen loss=2.6471056938171387,disc loss=0.6058828830718994\n",
            "Epoch 148, gen loss=2.642244815826416,disc loss=0.6055948734283447\n",
            "Epoch 149, gen loss=2.636082410812378,disc loss=0.6023002862930298\n",
            "Epoch 150, gen loss=2.663891315460205,disc loss=0.6178262829780579\n",
            "Epoch 151, gen loss=2.600586414337158,disc loss=0.6028923988342285\n",
            "Epoch 152, gen loss=2.6749250888824463,disc loss=0.6246920824050903\n",
            "Epoch 153, gen loss=2.6254537105560303,disc loss=0.6009811162948608\n",
            "Epoch 154, gen loss=2.67732834815979,disc loss=0.5680056214332581\n",
            "Epoch 155, gen loss=2.775402545928955,disc loss=0.5474264621734619\n",
            "Epoch 156, gen loss=2.6851980686187744,disc loss=0.5882805585861206\n",
            "Epoch 157, gen loss=2.7341220378875732,disc loss=0.5577298998832703\n",
            "Epoch 158, gen loss=2.777419328689575,disc loss=0.5666778683662415\n",
            "Epoch 159, gen loss=2.7218880653381348,disc loss=0.5857313871383667\n",
            "Epoch 160, gen loss=2.7124996185302734,disc loss=0.5759363770484924\n",
            "Epoch 161, gen loss=2.748788356781006,disc loss=0.548751950263977\n",
            "Epoch 162, gen loss=2.7548110485076904,disc loss=0.5869035720825195\n",
            "Epoch 163, gen loss=2.758401870727539,disc loss=0.5873351693153381\n",
            "Epoch 164, gen loss=2.7095232009887695,disc loss=0.5944925546646118\n",
            "Epoch 165, gen loss=2.787452220916748,disc loss=0.5582881569862366\n",
            "Epoch 166, gen loss=2.74471378326416,disc loss=0.5498843789100647\n",
            "Epoch 167, gen loss=2.8195104598999023,disc loss=0.6077539920806885\n",
            "Epoch 168, gen loss=2.7095718383789062,disc loss=0.5886885523796082\n",
            "Epoch 169, gen loss=2.7911760807037354,disc loss=0.5694023370742798\n",
            "Epoch 170, gen loss=2.7570085525512695,disc loss=0.580226719379425\n",
            "Epoch 171, gen loss=2.7334935665130615,disc loss=0.5707280039787292\n",
            "Epoch 172, gen loss=2.784857988357544,disc loss=0.5770972371101379\n",
            "Epoch 173, gen loss=2.714280605316162,disc loss=0.569229245185852\n",
            "Epoch 174, gen loss=2.792405366897583,disc loss=0.5441771149635315\n",
            "Epoch 175, gen loss=2.825493097305298,disc loss=0.5571735501289368\n",
            "Epoch 176, gen loss=2.8471641540527344,disc loss=0.5873715877532959\n",
            "Epoch 177, gen loss=2.908149480819702,disc loss=0.5228415131568909\n",
            "Epoch 178, gen loss=2.9072978496551514,disc loss=0.5790472626686096\n",
            "Epoch 179, gen loss=2.8432469367980957,disc loss=0.5824984312057495\n",
            "Epoch 180, gen loss=2.7881274223327637,disc loss=0.563504695892334\n",
            "Epoch 181, gen loss=2.889294385910034,disc loss=0.5631559491157532\n",
            "Epoch 182, gen loss=2.8634390830993652,disc loss=0.5638168454170227\n",
            "Epoch 183, gen loss=2.8037281036376953,disc loss=0.5622519850730896\n",
            "Epoch 184, gen loss=2.8350868225097656,disc loss=0.5537505745887756\n",
            "Epoch 185, gen loss=2.873889446258545,disc loss=0.5445588827133179\n",
            "Epoch 186, gen loss=2.8830506801605225,disc loss=0.5640289187431335\n",
            "Epoch 187, gen loss=2.877587080001831,disc loss=0.5686783194541931\n",
            "Epoch 188, gen loss=2.8902199268341064,disc loss=0.5577006340026855\n",
            "Epoch 189, gen loss=2.8893635272979736,disc loss=0.5718194246292114\n",
            "Epoch 190, gen loss=2.9133028984069824,disc loss=0.5270565152168274\n",
            "Epoch 191, gen loss=2.9047155380249023,disc loss=0.5407122373580933\n",
            "Epoch 192, gen loss=2.864248037338257,disc loss=0.5708263516426086\n",
            "Epoch 193, gen loss=2.874337911605835,disc loss=0.5615981817245483\n",
            "Epoch 194, gen loss=2.9238572120666504,disc loss=0.5319730043411255\n",
            "Epoch 195, gen loss=2.959475040435791,disc loss=0.5160431861877441\n",
            "Epoch 196, gen loss=2.9417884349823,disc loss=0.5415791273117065\n",
            "Epoch 197, gen loss=2.9014859199523926,disc loss=0.5630202889442444\n",
            "Epoch 198, gen loss=2.979901075363159,disc loss=0.5547796487808228\n",
            "Epoch 199, gen loss=2.966533899307251,disc loss=0.5338045954704285\n",
            "Epoch 200, gen loss=2.987283229827881,disc loss=0.5335912108421326\n",
            "Epoch 201, gen loss=2.878643274307251,disc loss=0.5608998537063599\n",
            "Epoch 202, gen loss=2.9621100425720215,disc loss=0.5565013289451599\n",
            "Epoch 203, gen loss=2.9116833209991455,disc loss=0.5099698305130005\n",
            "Epoch 204, gen loss=2.9632463455200195,disc loss=0.5747188925743103\n",
            "Epoch 205, gen loss=2.98860502243042,disc loss=0.5188111662864685\n",
            "Epoch 206, gen loss=2.9570300579071045,disc loss=0.5247825980186462\n",
            "Epoch 207, gen loss=2.996964931488037,disc loss=0.519381046295166\n",
            "Epoch 208, gen loss=3.002455472946167,disc loss=0.561511754989624\n",
            "Epoch 209, gen loss=3.0168769359588623,disc loss=0.5485996603965759\n",
            "Epoch 210, gen loss=2.9883716106414795,disc loss=0.5528303384780884\n",
            "Epoch 211, gen loss=2.9613726139068604,disc loss=0.55125892162323\n",
            "Epoch 212, gen loss=3.015451431274414,disc loss=0.544260561466217\n",
            "Epoch 213, gen loss=2.966930627822876,disc loss=0.5141892433166504\n",
            "Epoch 214, gen loss=3.0082504749298096,disc loss=0.5233593583106995\n",
            "Epoch 215, gen loss=3.0223007202148438,disc loss=0.5180345773696899\n",
            "Epoch 216, gen loss=3.0448248386383057,disc loss=0.5187816023826599\n",
            "Epoch 217, gen loss=3.044884204864502,disc loss=0.5152382254600525\n",
            "Epoch 218, gen loss=3.023310422897339,disc loss=0.5236714482307434\n",
            "Epoch 219, gen loss=2.9861645698547363,disc loss=0.5494350790977478\n",
            "Epoch 220, gen loss=3.0298290252685547,disc loss=0.5605381727218628\n",
            "Epoch 221, gen loss=2.9804463386535645,disc loss=0.5454075336456299\n",
            "Epoch 222, gen loss=3.064103603363037,disc loss=0.532410740852356\n",
            "Epoch 223, gen loss=3.014068126678467,disc loss=0.5151554942131042\n",
            "Epoch 224, gen loss=3.0574851036071777,disc loss=0.5438055992126465\n",
            "Epoch 225, gen loss=3.0529861450195312,disc loss=0.5443852543830872\n",
            "Epoch 226, gen loss=2.993853807449341,disc loss=0.536102294921875\n",
            "Epoch 227, gen loss=3.0276286602020264,disc loss=0.5793074369430542\n",
            "Epoch 228, gen loss=3.0719945430755615,disc loss=0.5445798635482788\n",
            "Epoch 229, gen loss=3.111231803894043,disc loss=0.49725136160850525\n",
            "Epoch 230, gen loss=3.0567097663879395,disc loss=0.5600658655166626\n",
            "Epoch 231, gen loss=3.1018168926239014,disc loss=0.505399763584137\n",
            "Epoch 232, gen loss=3.0928542613983154,disc loss=0.5463372468948364\n",
            "Epoch 233, gen loss=3.0025999546051025,disc loss=0.5176533460617065\n",
            "Epoch 234, gen loss=3.063340187072754,disc loss=0.539551854133606\n",
            "Epoch 235, gen loss=3.067803382873535,disc loss=0.5225314497947693\n",
            "Epoch 236, gen loss=2.9862875938415527,disc loss=0.5309419631958008\n",
            "Epoch 237, gen loss=3.0431630611419678,disc loss=0.5482034683227539\n",
            "Epoch 238, gen loss=2.9842448234558105,disc loss=0.5572603940963745\n",
            "Epoch 239, gen loss=3.058372974395752,disc loss=0.5420287251472473\n",
            "Epoch 240, gen loss=3.0380678176879883,disc loss=0.5307115912437439\n",
            "Epoch 241, gen loss=3.105818271636963,disc loss=0.5296966433525085\n",
            "Epoch 242, gen loss=3.097781181335449,disc loss=0.5363386869430542\n",
            "Epoch 243, gen loss=3.072300910949707,disc loss=0.5390142798423767\n",
            "Epoch 244, gen loss=3.0609235763549805,disc loss=0.5344707369804382\n",
            "Epoch 245, gen loss=3.031558036804199,disc loss=0.5407938361167908\n",
            "Epoch 246, gen loss=3.0901293754577637,disc loss=0.5257849097251892\n",
            "Epoch 247, gen loss=3.134382724761963,disc loss=0.5127136707305908\n",
            "Epoch 248, gen loss=3.081879138946533,disc loss=0.5469849109649658\n",
            "Epoch 249, gen loss=3.058016538619995,disc loss=0.5522012114524841\n",
            "Epoch 250, gen loss=3.077812671661377,disc loss=0.5636934041976929\n",
            "Epoch 251, gen loss=3.073605537414551,disc loss=0.5284599661827087\n",
            "Epoch 252, gen loss=3.1138577461242676,disc loss=0.5260012745857239\n",
            "Epoch 253, gen loss=3.1922008991241455,disc loss=0.4923712909221649\n",
            "Epoch 254, gen loss=3.0804784297943115,disc loss=0.5199018716812134\n",
            "Epoch 255, gen loss=3.087235689163208,disc loss=0.5357382893562317\n",
            "Epoch 256, gen loss=3.0718894004821777,disc loss=0.5336297750473022\n",
            "Epoch 257, gen loss=3.1480002403259277,disc loss=0.5421962738037109\n",
            "Epoch 258, gen loss=3.1187145709991455,disc loss=0.5220735669136047\n",
            "Epoch 259, gen loss=3.1266019344329834,disc loss=0.5324515700340271\n",
            "Epoch 260, gen loss=3.107128381729126,disc loss=0.562999963760376\n",
            "Epoch 261, gen loss=3.0303547382354736,disc loss=0.5438051819801331\n",
            "Epoch 262, gen loss=3.067559003829956,disc loss=0.5492995381355286\n",
            "Epoch 263, gen loss=3.1760306358337402,disc loss=0.49509546160697937\n",
            "Epoch 264, gen loss=3.1789538860321045,disc loss=0.5128072500228882\n",
            "Epoch 265, gen loss=3.1131129264831543,disc loss=0.5651918053627014\n",
            "Epoch 266, gen loss=3.1384024620056152,disc loss=0.52289217710495\n",
            "Epoch 267, gen loss=3.1130950450897217,disc loss=0.5166967511177063\n",
            "Epoch 268, gen loss=3.2058792114257812,disc loss=0.48520973324775696\n",
            "Epoch 269, gen loss=3.153693914413452,disc loss=0.5647158026695251\n",
            "Epoch 270, gen loss=3.1605944633483887,disc loss=0.5183473229408264\n",
            "Epoch 271, gen loss=3.2204504013061523,disc loss=0.509458601474762\n",
            "Epoch 272, gen loss=3.264347791671753,disc loss=0.5087981224060059\n",
            "Epoch 273, gen loss=3.1839852333068848,disc loss=0.5321393013000488\n",
            "Epoch 274, gen loss=3.1187703609466553,disc loss=0.5051518082618713\n",
            "Epoch 275, gen loss=3.1412158012390137,disc loss=0.5212040543556213\n",
            "Epoch 276, gen loss=3.1473193168640137,disc loss=0.5431824922561646\n",
            "Epoch 277, gen loss=3.135843515396118,disc loss=0.5594096183776855\n",
            "Epoch 278, gen loss=3.206820487976074,disc loss=0.5058395266532898\n",
            "Epoch 279, gen loss=3.176875352859497,disc loss=0.5061628818511963\n",
            "Epoch 280, gen loss=3.1484358310699463,disc loss=0.562504231929779\n",
            "Epoch 281, gen loss=3.194408893585205,disc loss=0.5059762597084045\n",
            "Epoch 282, gen loss=3.175581455230713,disc loss=0.5361022353172302\n",
            "Epoch 283, gen loss=3.1904664039611816,disc loss=0.5108161568641663\n",
            "Epoch 284, gen loss=3.231656312942505,disc loss=0.49971291422843933\n",
            "Epoch 285, gen loss=3.266479253768921,disc loss=0.5199282169342041\n",
            "Epoch 286, gen loss=3.269711494445801,disc loss=0.5063233971595764\n",
            "Epoch 287, gen loss=3.272087335586548,disc loss=0.48830559849739075\n",
            "Epoch 288, gen loss=3.294595718383789,disc loss=0.5434818863868713\n",
            "Epoch 289, gen loss=3.179110050201416,disc loss=0.5213609337806702\n",
            "Epoch 290, gen loss=3.2320358753204346,disc loss=0.505892276763916\n",
            "Epoch 291, gen loss=3.2260079383850098,disc loss=0.5370911955833435\n",
            "Epoch 292, gen loss=3.148205280303955,disc loss=0.5216894745826721\n",
            "Epoch 293, gen loss=3.2177021503448486,disc loss=0.503900408744812\n",
            "Epoch 294, gen loss=3.17397141456604,disc loss=0.49294331669807434\n",
            "Epoch 295, gen loss=3.2220869064331055,disc loss=0.5273667573928833\n",
            "Epoch 296, gen loss=3.2035703659057617,disc loss=0.5175308585166931\n",
            "Epoch 297, gen loss=3.3099796772003174,disc loss=0.48489534854888916\n",
            "Epoch 298, gen loss=3.2667624950408936,disc loss=0.4948537051677704\n",
            "Epoch 299, gen loss=3.288503646850586,disc loss=0.49666330218315125\n",
            "Epoch 300, gen loss=3.237020969390869,disc loss=0.5314283967018127\n",
            "Epoch 301, gen loss=3.3276960849761963,disc loss=0.4906371235847473\n",
            "Epoch 302, gen loss=3.2268874645233154,disc loss=0.5178709030151367\n",
            "Epoch 303, gen loss=3.2593135833740234,disc loss=0.5478017330169678\n",
            "Epoch 304, gen loss=3.2603578567504883,disc loss=0.5275585651397705\n",
            "Epoch 305, gen loss=3.248823642730713,disc loss=0.5066580772399902\n",
            "Epoch 306, gen loss=3.2746875286102295,disc loss=0.48817235231399536\n",
            "Epoch 307, gen loss=3.2772185802459717,disc loss=0.5286275148391724\n",
            "Epoch 308, gen loss=3.2883331775665283,disc loss=0.5202540755271912\n",
            "Epoch 309, gen loss=3.3283700942993164,disc loss=0.4781700670719147\n",
            "Epoch 310, gen loss=3.3486311435699463,disc loss=0.4522853195667267\n",
            "Epoch 311, gen loss=3.3889966011047363,disc loss=0.5151554346084595\n",
            "Epoch 312, gen loss=3.243110179901123,disc loss=0.48906829953193665\n",
            "Epoch 313, gen loss=3.2990522384643555,disc loss=0.4978809654712677\n",
            "Epoch 314, gen loss=3.2807579040527344,disc loss=0.5311514139175415\n",
            "Epoch 315, gen loss=3.359642744064331,disc loss=0.4757194519042969\n",
            "Epoch 316, gen loss=3.388857841491699,disc loss=0.4843149185180664\n",
            "Epoch 317, gen loss=3.401919364929199,disc loss=0.48310405015945435\n",
            "Epoch 318, gen loss=3.341153144836426,disc loss=0.4797217547893524\n",
            "Epoch 319, gen loss=3.3421847820281982,disc loss=0.5189202427864075\n",
            "Epoch 320, gen loss=3.3097848892211914,disc loss=0.5254321098327637\n",
            "Epoch 321, gen loss=3.2449052333831787,disc loss=0.49180272221565247\n",
            "Epoch 322, gen loss=3.3559296131134033,disc loss=0.48857617378234863\n",
            "Epoch 323, gen loss=3.4553401470184326,disc loss=0.47765952348709106\n",
            "Epoch 324, gen loss=3.3529717922210693,disc loss=0.47096705436706543\n",
            "Epoch 325, gen loss=3.369842290878296,disc loss=0.5197588205337524\n",
            "Epoch 326, gen loss=3.314749240875244,disc loss=0.5365042686462402\n",
            "Epoch 327, gen loss=3.3579912185668945,disc loss=0.48388946056365967\n",
            "Epoch 328, gen loss=3.404792547225952,disc loss=0.48059704899787903\n",
            "Epoch 329, gen loss=3.302520751953125,disc loss=0.5099073052406311\n",
            "Epoch 330, gen loss=3.3898818492889404,disc loss=0.4814679026603699\n",
            "Epoch 331, gen loss=3.383713483810425,disc loss=0.5097676515579224\n",
            "Epoch 332, gen loss=3.3744051456451416,disc loss=0.5224998593330383\n",
            "Epoch 333, gen loss=3.367403984069824,disc loss=0.4884560704231262\n",
            "Epoch 334, gen loss=3.464031219482422,disc loss=0.4603346884250641\n",
            "Epoch 335, gen loss=3.3654727935791016,disc loss=0.49363216757774353\n",
            "Epoch 336, gen loss=3.4026408195495605,disc loss=0.4777732789516449\n",
            "Epoch 337, gen loss=3.369825601577759,disc loss=0.5006016492843628\n",
            "Epoch 338, gen loss=3.399392604827881,disc loss=0.49172693490982056\n",
            "Epoch 339, gen loss=3.4646923542022705,disc loss=0.44901078939437866\n",
            "Epoch 340, gen loss=3.378795862197876,disc loss=0.4967978298664093\n",
            "Epoch 341, gen loss=3.4453868865966797,disc loss=0.489823579788208\n",
            "Epoch 342, gen loss=3.4213225841522217,disc loss=0.4922078251838684\n",
            "Epoch 343, gen loss=3.2962758541107178,disc loss=0.5069264769554138\n",
            "Epoch 344, gen loss=3.444478750228882,disc loss=0.5120982527732849\n",
            "Epoch 345, gen loss=3.3733203411102295,disc loss=0.5053665041923523\n",
            "Epoch 346, gen loss=3.4294705390930176,disc loss=0.4974329471588135\n",
            "Epoch 347, gen loss=3.3966164588928223,disc loss=0.4578838646411896\n",
            "Epoch 348, gen loss=3.3712010383605957,disc loss=0.493575781583786\n",
            "Epoch 349, gen loss=3.4613630771636963,disc loss=0.46887949109077454\n",
            "Epoch 350, gen loss=3.3445816040039062,disc loss=0.5111410617828369\n",
            "Epoch 351, gen loss=3.3922243118286133,disc loss=0.5155040621757507\n",
            "Epoch 352, gen loss=3.5007708072662354,disc loss=0.5036095380783081\n",
            "Epoch 353, gen loss=3.4456982612609863,disc loss=0.4831838607788086\n",
            "Epoch 354, gen loss=3.4543895721435547,disc loss=0.5012920498847961\n",
            "Epoch 355, gen loss=3.386338472366333,disc loss=0.4915812611579895\n",
            "Epoch 356, gen loss=3.427222490310669,disc loss=0.5078657269477844\n",
            "Epoch 357, gen loss=3.388864278793335,disc loss=0.4944407045841217\n",
            "Epoch 358, gen loss=3.4311025142669678,disc loss=0.5067204236984253\n",
            "Epoch 359, gen loss=3.412215232849121,disc loss=0.47321873903274536\n",
            "Epoch 360, gen loss=3.400541305541992,disc loss=0.4756591022014618\n",
            "Epoch 361, gen loss=3.5222585201263428,disc loss=0.46528807282447815\n",
            "Epoch 362, gen loss=3.56006121635437,disc loss=0.4830204248428345\n",
            "Epoch 363, gen loss=3.5039772987365723,disc loss=0.4976193308830261\n",
            "Epoch 364, gen loss=3.4817440509796143,disc loss=0.4913578927516937\n",
            "Epoch 365, gen loss=3.4171640872955322,disc loss=0.5104043483734131\n",
            "Epoch 366, gen loss=3.4927053451538086,disc loss=0.45909014344215393\n",
            "Epoch 367, gen loss=3.4664177894592285,disc loss=0.4608878195285797\n",
            "Epoch 368, gen loss=3.5031208992004395,disc loss=0.4509079158306122\n",
            "Epoch 369, gen loss=3.532301902770996,disc loss=0.477938711643219\n",
            "Epoch 370, gen loss=3.4621214866638184,disc loss=0.47558659315109253\n",
            "Epoch 371, gen loss=3.496458053588867,disc loss=0.4729975163936615\n",
            "Epoch 372, gen loss=3.5314879417419434,disc loss=0.4565158188343048\n",
            "Epoch 373, gen loss=3.5190374851226807,disc loss=0.4488380253314972\n",
            "Epoch 374, gen loss=3.486746311187744,disc loss=0.5182415246963501\n",
            "Epoch 375, gen loss=3.506605625152588,disc loss=0.46452972292900085\n",
            "Epoch 376, gen loss=3.478335380554199,disc loss=0.46854767203330994\n",
            "Epoch 377, gen loss=3.5613901615142822,disc loss=0.45139357447624207\n",
            "Epoch 378, gen loss=3.4822168350219727,disc loss=0.5246210098266602\n",
            "Epoch 379, gen loss=3.470529794692993,disc loss=0.46738889813423157\n",
            "Epoch 380, gen loss=3.466188430786133,disc loss=0.4916108250617981\n",
            "Epoch 381, gen loss=3.4617791175842285,disc loss=0.45986810326576233\n",
            "Epoch 382, gen loss=3.510037422180176,disc loss=0.4644004702568054\n",
            "Epoch 383, gen loss=3.487201452255249,disc loss=0.4946417510509491\n",
            "Epoch 384, gen loss=3.5608630180358887,disc loss=0.4490372836589813\n",
            "Epoch 385, gen loss=3.573207139968872,disc loss=0.43330055475234985\n",
            "Epoch 386, gen loss=3.5368313789367676,disc loss=0.4905468821525574\n",
            "Epoch 387, gen loss=3.5575525760650635,disc loss=0.46572670340538025\n",
            "Epoch 388, gen loss=3.53222393989563,disc loss=0.44192466139793396\n",
            "Epoch 389, gen loss=3.524594783782959,disc loss=0.46107369661331177\n",
            "Epoch 390, gen loss=3.5079126358032227,disc loss=0.4678122103214264\n",
            "Epoch 391, gen loss=3.5434744358062744,disc loss=0.47927409410476685\n",
            "Epoch 392, gen loss=3.554626941680908,disc loss=0.44119054079055786\n",
            "Epoch 393, gen loss=3.537081480026245,disc loss=0.4630127251148224\n",
            "Epoch 394, gen loss=3.564974069595337,disc loss=0.45891040563583374\n",
            "Epoch 395, gen loss=3.5606722831726074,disc loss=0.46883758902549744\n",
            "Epoch 396, gen loss=3.583566665649414,disc loss=0.4464825987815857\n",
            "Epoch 397, gen loss=3.5570669174194336,disc loss=0.45989343523979187\n",
            "Epoch 398, gen loss=3.635493516921997,disc loss=0.4320116639137268\n",
            "Epoch 399, gen loss=3.6253983974456787,disc loss=0.47831764817237854\n",
            "Epoch 400, gen loss=3.5915491580963135,disc loss=0.46153777837753296\n",
            "Epoch 401, gen loss=3.6351473331451416,disc loss=0.446371853351593\n",
            "Epoch 402, gen loss=3.607664108276367,disc loss=0.47488918900489807\n",
            "Epoch 403, gen loss=3.5957367420196533,disc loss=0.425800621509552\n",
            "Epoch 404, gen loss=3.5969812870025635,disc loss=0.4475123882293701\n",
            "Epoch 405, gen loss=3.6377525329589844,disc loss=0.5124351978302002\n",
            "Epoch 406, gen loss=3.67150616645813,disc loss=0.44611263275146484\n",
            "Epoch 407, gen loss=3.64471435546875,disc loss=0.44998642802238464\n",
            "Epoch 408, gen loss=3.595505475997925,disc loss=0.43233948945999146\n",
            "Epoch 409, gen loss=3.6253299713134766,disc loss=0.47000056505203247\n",
            "Epoch 410, gen loss=3.649794340133667,disc loss=0.4835131764411926\n",
            "Epoch 411, gen loss=3.68955397605896,disc loss=0.4569973647594452\n",
            "Epoch 412, gen loss=3.694915294647217,disc loss=0.47377684712409973\n",
            "Epoch 413, gen loss=3.571087121963501,disc loss=0.462971568107605\n",
            "Epoch 414, gen loss=3.682739496231079,disc loss=0.4312381148338318\n",
            "Epoch 415, gen loss=3.513794422149658,disc loss=0.48843586444854736\n",
            "Epoch 416, gen loss=3.5773181915283203,disc loss=0.4607102572917938\n",
            "Epoch 417, gen loss=3.5820982456207275,disc loss=0.47026294469833374\n",
            "Epoch 418, gen loss=3.605637550354004,disc loss=0.4769337773323059\n",
            "Epoch 419, gen loss=3.6107757091522217,disc loss=0.4310396909713745\n",
            "Epoch 420, gen loss=3.570413589477539,disc loss=0.4382210075855255\n",
            "Epoch 421, gen loss=3.730161190032959,disc loss=0.48613905906677246\n",
            "Epoch 422, gen loss=3.693807363510132,disc loss=0.442144513130188\n",
            "Epoch 423, gen loss=3.692685127258301,disc loss=0.5145076513290405\n",
            "Epoch 424, gen loss=3.6941380500793457,disc loss=0.4295104444026947\n",
            "Epoch 425, gen loss=3.649381637573242,disc loss=0.45756885409355164\n",
            "Epoch 426, gen loss=3.728393316268921,disc loss=0.4332819879055023\n",
            "Epoch 427, gen loss=3.687802791595459,disc loss=0.4199972152709961\n",
            "Epoch 428, gen loss=3.65189528465271,disc loss=0.46476805210113525\n",
            "Epoch 429, gen loss=3.7692031860351562,disc loss=0.43414306640625\n",
            "Epoch 430, gen loss=3.73136830329895,disc loss=0.451938658952713\n",
            "Epoch 431, gen loss=3.742144823074341,disc loss=0.46246010065078735\n",
            "Epoch 432, gen loss=3.7730531692504883,disc loss=0.4500681459903717\n",
            "Epoch 433, gen loss=3.833242416381836,disc loss=0.4217396676540375\n",
            "Epoch 434, gen loss=3.7144064903259277,disc loss=0.415012001991272\n",
            "Epoch 435, gen loss=3.756131649017334,disc loss=0.4446127712726593\n",
            "Epoch 436, gen loss=3.5869672298431396,disc loss=0.4374179542064667\n",
            "Epoch 437, gen loss=3.6335818767547607,disc loss=0.43505096435546875\n",
            "Epoch 438, gen loss=3.719386339187622,disc loss=0.42075610160827637\n",
            "Epoch 439, gen loss=3.7408435344696045,disc loss=0.4656996428966522\n",
            "Epoch 440, gen loss=3.621730089187622,disc loss=0.44985225796699524\n",
            "Epoch 441, gen loss=3.839266300201416,disc loss=0.39615389704704285\n",
            "Epoch 442, gen loss=3.7516229152679443,disc loss=0.4235551953315735\n",
            "Epoch 443, gen loss=3.7645318508148193,disc loss=0.4556618630886078\n",
            "Epoch 444, gen loss=3.6757607460021973,disc loss=0.4266446828842163\n",
            "Epoch 445, gen loss=3.8689165115356445,disc loss=0.4329214096069336\n",
            "Epoch 446, gen loss=3.749277114868164,disc loss=0.4625154435634613\n",
            "Epoch 447, gen loss=3.8372795581817627,disc loss=0.43064403533935547\n",
            "Epoch 448, gen loss=3.7565853595733643,disc loss=0.44763678312301636\n",
            "Epoch 449, gen loss=3.8063576221466064,disc loss=0.44001132249832153\n",
            "Epoch 450, gen loss=3.723679542541504,disc loss=0.4500119090080261\n",
            "Epoch 451, gen loss=3.6961262226104736,disc loss=0.43407896161079407\n",
            "Epoch 452, gen loss=3.776589870452881,disc loss=0.4489392042160034\n",
            "Epoch 453, gen loss=3.8524303436279297,disc loss=0.4262743890285492\n",
            "Epoch 454, gen loss=3.7382071018218994,disc loss=0.4483012855052948\n",
            "Epoch 455, gen loss=3.7910032272338867,disc loss=0.45128121972084045\n",
            "Epoch 456, gen loss=3.814772605895996,disc loss=0.45491060614585876\n",
            "Epoch 457, gen loss=3.858006238937378,disc loss=0.43480512499809265\n",
            "Epoch 458, gen loss=3.7773191928863525,disc loss=0.43808120489120483\n",
            "Epoch 459, gen loss=3.766587018966675,disc loss=0.4863003194332123\n",
            "Epoch 460, gen loss=3.7578327655792236,disc loss=0.4428410530090332\n",
            "Epoch 461, gen loss=3.741434335708618,disc loss=0.4224656820297241\n",
            "Epoch 462, gen loss=3.691121816635132,disc loss=0.46046826243400574\n",
            "Epoch 463, gen loss=3.8385021686553955,disc loss=0.4163653552532196\n",
            "Epoch 464, gen loss=3.743767499923706,disc loss=0.4306153953075409\n",
            "Epoch 465, gen loss=3.8741965293884277,disc loss=0.4896395206451416\n",
            "Epoch 466, gen loss=3.83183217048645,disc loss=0.43679654598236084\n",
            "Epoch 467, gen loss=3.791527032852173,disc loss=0.4167685806751251\n",
            "Epoch 468, gen loss=3.8880181312561035,disc loss=0.41971105337142944\n",
            "Epoch 469, gen loss=3.8115217685699463,disc loss=0.4266890585422516\n",
            "Epoch 470, gen loss=3.810098886489868,disc loss=0.45948973298072815\n",
            "Epoch 471, gen loss=3.842214584350586,disc loss=0.4075731933116913\n",
            "Epoch 472, gen loss=3.8075056076049805,disc loss=0.42020463943481445\n",
            "Epoch 473, gen loss=3.817779064178467,disc loss=0.4531475007534027\n",
            "Epoch 474, gen loss=3.751588821411133,disc loss=0.41053134202957153\n",
            "Epoch 475, gen loss=3.897385835647583,disc loss=0.4217727482318878\n",
            "Epoch 476, gen loss=3.8862812519073486,disc loss=0.42406636476516724\n",
            "Epoch 477, gen loss=3.9223077297210693,disc loss=0.43390312790870667\n",
            "Epoch 478, gen loss=3.7754745483398438,disc loss=0.44333183765411377\n",
            "Epoch 479, gen loss=3.854158639907837,disc loss=0.404763400554657\n",
            "Epoch 480, gen loss=3.8859338760375977,disc loss=0.45493221282958984\n",
            "Epoch 481, gen loss=3.887843132019043,disc loss=0.4417908191680908\n",
            "Epoch 482, gen loss=3.85567045211792,disc loss=0.45230409502983093\n",
            "Epoch 483, gen loss=3.854862689971924,disc loss=0.41666659712791443\n",
            "Epoch 484, gen loss=3.8933112621307373,disc loss=0.4174622595310211\n",
            "Epoch 485, gen loss=3.8641557693481445,disc loss=0.4107891023159027\n",
            "Epoch 486, gen loss=3.8848061561584473,disc loss=0.40247079730033875\n",
            "Epoch 487, gen loss=3.9718501567840576,disc loss=0.40155938267707825\n",
            "Epoch 488, gen loss=3.907841920852661,disc loss=0.4269954264163971\n",
            "Epoch 489, gen loss=3.8817758560180664,disc loss=0.43854820728302\n",
            "Epoch 490, gen loss=3.899136781692505,disc loss=0.4238527715206146\n",
            "Epoch 491, gen loss=4.001445293426514,disc loss=0.41228634119033813\n",
            "Epoch 492, gen loss=3.973381757736206,disc loss=0.4122752845287323\n",
            "Epoch 493, gen loss=3.9210426807403564,disc loss=0.40435221791267395\n",
            "Epoch 494, gen loss=3.9372105598449707,disc loss=0.4165121018886566\n",
            "Epoch 495, gen loss=3.925900936126709,disc loss=0.40590664744377136\n",
            "Epoch 496, gen loss=3.9086544513702393,disc loss=0.4259069561958313\n",
            "Epoch 497, gen loss=3.881251096725464,disc loss=0.4329596757888794\n",
            "Epoch 498, gen loss=3.870152473449707,disc loss=0.4401929974555969\n",
            "Epoch 499, gen loss=3.987389326095581,disc loss=0.42077767848968506\n",
            "Epoch 500, gen loss=3.94252872467041,disc loss=0.40324026346206665\n"
          ],
          "name": "stdout"
        }
      ]
    },
    {
      "cell_type": "markdown",
      "metadata": {
        "id": "aHZE0zbzddIR"
      },
      "source": [
        "# Convert generated female images to GIF"
      ]
    },
    {
      "cell_type": "code",
      "metadata": {
        "id": "8f9RHyf2lz2z"
      },
      "source": [
        "import os\n",
        "import imageio\n",
        "\n",
        "GAN_face_dir = '/content/drive/My Drive/gender/female/test_female2'\n",
        "\n",
        "images = []\n",
        "\n",
        "for file_name in os.listdir(GAN_face_dir):\n",
        "    if file_name.endswith('.png'):\n",
        "        file_path = os.path.join(GAN_face_dir, file_name)\n",
        "        images.append(imageio.imread(file_path))\n",
        "imageio.mimsave('/content/drive/My Drive/gender/female_movie.gif', images)"
      ],
      "execution_count": null,
      "outputs": []
    },
    {
      "cell_type": "markdown",
      "metadata": {
        "id": "g9L0lelrQv6C"
      },
      "source": [
        "# Convert male images to GIF"
      ]
    },
    {
      "cell_type": "code",
      "metadata": {
        "id": "pFs9CFmfQvg_"
      },
      "source": [
        "GAN_face_dir = '/content/drive/My Drive/gender/good_male/'\r\n",
        "\r\n",
        "images = []\r\n",
        "\r\n",
        "for file_name in os.listdir(GAN_face_dir):\r\n",
        "    if file_name.endswith('.png'):\r\n",
        "        file_path = os.path.join(GAN_face_dir, file_name)\r\n",
        "        images.append(imageio.imread(file_path))\r\n",
        "imageio.mimsave('/content/drive/My Drive/gender/movie.gif', images)"
      ],
      "execution_count": null,
      "outputs": []
    },
    {
      "cell_type": "markdown",
      "metadata": {
        "id": "OX7etCA2mYaq"
      },
      "source": [
        "# Save the model"
      ]
    },
    {
      "cell_type": "code",
      "metadata": {
        "id": "sL_wt-yr1Tx2"
      },
      "source": [
        "generator.save(os.path.join(DATA_PATH,\"face_generator.h5\"))"
      ],
      "execution_count": null,
      "outputs": []
    }
  ]
}